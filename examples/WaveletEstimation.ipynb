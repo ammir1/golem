{
 "cells": [
  {
   "cell_type": "markdown",
   "metadata": {},
   "source": [
    "## Step 1: Setup and Imports\n",
    "\n",
    "We begin by setting the working directory and importing the custom processing functions defined in `SignalProcessingScripts.py`.\n",
    "\n",
    "We also reload the module to ensure any changes to the code are reflected without restarting the kernel.\n",
    "\n",
    "The `context` dictionary is used to store and pass data between steps."
   ]
  },
  {
   "cell_type": "code",
   "execution_count": null,
   "metadata": {},
   "outputs": [],
   "source": [
    "%cd \"/home/ammir/Desktop/Golem Seismic Processing/src/\"\n",
    "import golem as sps\n",
    "import importlib\n",
    "importlib.reload(sps)\n",
    "\n",
    "context = {}"
   ]
  },
  {
   "cell_type": "markdown",
   "metadata": {},
   "source": [
    "## Step 2: Load Seismic Data (Memory-Mapped)\n",
    "\n",
    "We load a `.npy` file containing seismic shot gather data using NumPy's memory-mapping mode. This is efficient for large datasets as it avoids loading the full array into memory.\n"
   ]
  },
  {
   "cell_type": "code",
   "execution_count": null,
   "metadata": {},
   "outputs": [],
   "source": [
    "context['data']=sps.import_npy_mmap(file_in=\"/home/ammir/Desktop/Seismic Dataset/BP Benchmark 2004/Processed Data/KillTracesSeismogram.npy\", mode=\"r\")"
   ]
  },
  {
   "cell_type": "markdown",
   "metadata": {},
   "source": [
    "## Step 3: Load Geometry Information\n",
    "\n",
    "We read the geometry metadata from a `.parquet` file. This includes information like source and receiver positions, which we’ll use in later processing.\n"
   ]
  },
  {
   "cell_type": "code",
   "execution_count": null,
   "metadata": {},
   "outputs": [],
   "source": [
    "context['geometry']=sps.import_parquet_file(file_in=\"/home/ammir/Desktop/Seismic Dataset/BP Benchmark 2004/Processed Data/SourceReceiverGeometry.parquet\")"
   ]
  },
  {
   "cell_type": "markdown",
   "metadata": {},
   "source": [
    "## Step 4: Create Offset Header\n",
    "\n",
    "We compute the **offset** between source and receiver positions using the expression:\n",
    "\n"
   ]
  },
  {
   "cell_type": "code",
   "execution_count": null,
   "metadata": {},
   "outputs": [],
   "source": [
    "sps.create_header(context, header_name=\"offset\", expression=\"abs(SourceX - GroupX)\")"
   ]
  },
  {
   "cell_type": "markdown",
   "metadata": {},
   "source": [
    "\n",
    "This value is added as a new column in the geometry DataFrame.\n"
   ]
  },
  {
   "cell_type": "markdown",
   "metadata": {},
   "source": [
    "## Step 5: Subset Geometry (offset == 0)\n",
    "\n",
    "We filter the geometry to only include traces with zero offset — i.e., where/ the source and receiver are at the same location. The corresponding seismic traces are also filtered."
   ]
  },
  {
   "cell_type": "code",
   "execution_count": null,
   "metadata": {},
   "outputs": [],
   "source": [
    "sps.subset_geometry_by_condition(context, condition=\"offset == 0\")"
   ]
  },
  {
   "cell_type": "markdown",
   "metadata": {},
   "source": [
    "## Step 6: Plot 2D Seismic Section\n",
    "\n",
    "We visualize the filtered 2D seismic shot gather using `imshow`. The x-axis corresponds to receiver positions and the y-axis to time.\n",
    "\n",
    "The amplitude is clipped at the 95th percentile for better contrast.\n"
   ]
  },
  {
   "cell_type": "code",
   "execution_count": null,
   "metadata": {},
   "outputs": [],
   "source": [
    "sps.plot_seismic_image(context,\n",
    "    xlabel=\"Receiver X (m)\",\n",
    "    ylabel=\"Time (ms)\",\n",
    "    y_spacing=6.0,\n",
    "    x_header=\"GroupX\",\n",
    "    perc=95\n",
    ")"
   ]
  },
  {
   "cell_type": "markdown",
   "metadata": {},
   "source": [
    "## Step 7: Stack Seismic Data Across Traces\n",
    "\n",
    "We stack the traces along axis 1 (horizontally), averaging the amplitudes at each time sample. The result is a 1D seismic trace, often referred to as a stacked trace.\n"
   ]
  },
  {
   "cell_type": "code",
   "execution_count": null,
   "metadata": {},
   "outputs": [],
   "source": [
    "sps.stack_data_along_axis(context, axis=1, method=\"mean\")"
   ]
  },
  {
   "cell_type": "markdown",
   "metadata": {},
   "source": [
    "## Step 8: Plot 1D Stacked Trace\n",
    "\n",
    "We visualize the stacked trace as a vertical plot (time vs. amplitude). The y-axis represents time increasing downward, and the x-axis shows the amplitude.\n"
   ]
  },
  {
   "cell_type": "code",
   "execution_count": null,
   "metadata": {},
   "outputs": [],
   "source": [
    "sps.plot_seismic_image(context,\n",
    "    xlabel=\"Amplitude\",\n",
    "    ylabel=\"Time (ms)\",\n",
    "    y_spacing=6.0,\n",
    "    x_header=\"GroupX\",\n",
    "    perc=95,\n",
    "    xlim=[5000, 10000],\n",
    "    ylim=[0, 100]\n",
    ")"
   ]
  },
  {
   "cell_type": "markdown",
   "metadata": {},
   "source": [
    "## Step 9: Mute Below a Given Sample\n",
    "\n",
    "We apply a mute to the data by setting all values from a given sample index (e.g. 100) downward to zero. This helps remove low-frequency noise or unwanted late arrivals.\n"
   ]
  },
  {
   "cell_type": "code",
   "execution_count": null,
   "metadata": {},
   "outputs": [],
   "source": [
    "sps.mute_data(context, start_sample=100)"
   ]
  },
  {
   "cell_type": "markdown",
   "metadata": {},
   "source": [
    "## Step 10: Save Final Data to `.npy`\n",
    "\n",
    "We save the processed 1D trace to a `.npy` file. The output filename includes the data shape, e.g. `_6001Samples.npy`, for clarity and traceability.\n"
   ]
  },
  {
   "cell_type": "code",
   "execution_count": null,
   "metadata": {},
   "outputs": [],
   "source": [
    "sps.write_data(context,\n",
    "    file_folder=\"/home/ammir/Desktop/Seismic Dataset/BP Benchmark 2004/ShotGather/Processed Data/\",\n",
    "    file_name=\"wavelet_BP2004_estimated\",\n",
    "    format=\"npy\"\n",
    ")"
   ]
  }
 ],
 "metadata": {
  "kernelspec": {
   "display_name": "base",
   "language": "python",
   "name": "python3"
  },
  "language_info": {
   "codemirror_mode": {
    "name": "ipython",
    "version": 3
   },
   "file_extension": ".py",
   "mimetype": "text/x-python",
   "name": "python",
   "nbconvert_exporter": "python",
   "pygments_lexer": "ipython3",
   "version": "3.11.11"
  }
 },
 "nbformat": 4,
 "nbformat_minor": 2
}
