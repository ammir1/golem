{
 "cells": [
  {
   "cell_type": "markdown",
   "metadata": {},
   "source": [
    "## Step 1: Setup and Imports\n",
    "\n",
    "We begin by setting the working directory and importing the custom processing functions defined in `SignalProcessingScripts.py`.\n",
    "\n",
    "We also reload the module to ensure any changes to the code are reflected without restarting the kernel.\n",
    "\n",
    "The `context` dictionary is used to store and pass data between steps."
   ]
  },
  {
   "cell_type": "code",
   "execution_count": null,
   "metadata": {},
   "outputs": [],
   "source": [
    "%cd \"/home/ammir/Desktop/Golem Seismic Processing/src/\"\n",
    "%matplotlib inline\n",
    "%config InlineBackend.figure_format = 'retina' # for more resolution plots\n",
    "\n",
    "# Center the plot\n",
    "from IPython.core.display import HTML\n",
    "HTML(\"\"\"\n",
    "<style>\n",
    ".output_png {\n",
    "    display: table-cell;\n",
    "    text-align: center;\n",
    "    vertical-align: middle;\n",
    "}\n",
    "</style>\n",
    "\"\"\")\n",
    "\n",
    "import golem as gisis\n",
    "\n",
    "context = {}"
   ]
  },
  {
   "cell_type": "markdown",
   "metadata": {},
   "source": [
    "## 2. Read Binary Header\n",
    "    First we will read the binary header of the segy file."
   ]
  },
  {
   "cell_type": "code",
   "execution_count": null,
   "metadata": {},
   "outputs": [],
   "source": [
    "context['binary_header'] = gisis.get_binary_header(context, file_path='/home/ammir/Desktop/Seismic Dataset/BP Benchmark 2004/ShotGather/shots0001_0200.segy')\n",
    "context['binary_header']"
   ]
  },
  {
   "cell_type": "markdown",
   "metadata": {},
   "source": [
    "## 3. Read Text Header\n",
    "    Then we obtain the text header to see informations about the geometry or past processing."
   ]
  },
  {
   "cell_type": "code",
   "execution_count": null,
   "metadata": {},
   "outputs": [],
   "source": [
    "context['text_header'] = gisis.get_text_header(context, file_path='/home/ammir/Desktop/Seismic Dataset/BP Benchmark 2004/ShotGather/shots0001_0200.segy')\n",
    "context['text_header']"
   ]
  },
  {
   "cell_type": "markdown",
   "metadata": {},
   "source": [
    "## 4. Read Trace Data\n",
    "    Here we extract the trace data, which contains the seismogram in a 2D numpy array with dimensions (timesamples, ntraces)"
   ]
  },
  {
   "cell_type": "code",
   "execution_count": null,
   "metadata": {},
   "outputs": [],
   "source": [
    "context['data'] = gisis.get_trace_data(context, file_path='/home/ammir/Desktop/Seismic Dataset/BP Benchmark 2004/ShotGather/shots0001_0200.segy', ignore_geometry=True)"
   ]
  },
  {
   "cell_type": "markdown",
   "metadata": {},
   "source": [
    "## 5. Read Trace Header (trace geometry)\n",
    "    Here we extract the trace header, which contains the geometry information about the segy file"
   ]
  },
  {
   "cell_type": "code",
   "execution_count": null,
   "metadata": {},
   "outputs": [],
   "source": [
    "context['geometry'] = gisis.get_trace_header(context, file_path='/home/ammir/Desktop/Seismic Dataset/BP Benchmark 2004/ShotGather/shots0001_0200.segy',ignore_geometry=True)\n",
    "context['geometry'].head(10)"
   ]
  },
  {
   "cell_type": "markdown",
   "metadata": {},
   "source": [
    "## 6. Scale coordinate units\n",
    "    Here we need to scale the coordinate units of the segy. This happens because the file can only store in integers, but X, Y and Z are in floats, so we need to apply a scaling factor to make it a float"
   ]
  },
  {
   "cell_type": "code",
   "execution_count": null,
   "metadata": {},
   "outputs": [],
   "source": [
    "context['geometry'] = gisis.scale_coordinate_units(context, key=\"geometry\", XY_headers=['SourceX', 'SourceY', 'GroupX', 'GroupY'], elevation_headers=['SourceDepth', 'SourceSurfaceElevation'], XY_Scaler=10., elevation_scaler=10.)\n",
    "context['geometry'].head(10)"
   ]
  },
  {
   "cell_type": "markdown",
   "metadata": {},
   "source": [
    "## 7. Subset a specific shot for visualization\n",
    "    Let's subset the data into the shot number 180 just to see its contents"
   ]
  },
  {
   "cell_type": "code",
   "execution_count": null,
   "metadata": {},
   "outputs": [],
   "source": [
    "gisis.subset_geometry_by_condition(context, condition=\"FieldRecord == 180\", key_input=\"data\", key_output=\"subset_data\", key_geometry_input=\"geometry\", key_geometry_output=\"subset_geometry\")"
   ]
  },
  {
   "cell_type": "markdown",
   "metadata": {},
   "source": [
    "## 8. Visualize the data"
   ]
  },
  {
   "cell_type": "code",
   "execution_count": null,
   "metadata": {},
   "outputs": [],
   "source": [
    "gisis.plot_seismic_image(context,\n",
    "    xlabel=\"Receiver X (m)\",\n",
    "    ylabel=\"Time (ms)\",\n",
    "    y_spacing=6.0,\n",
    "    x_header=\"GroupX\",\n",
    "    perc=95,\n",
    "    key_data='subset_data',\n",
    "    key_geometry=\"subset_geometry\",\n",
    "    figure_dims=(20,12)\n",
    ")"
   ]
  },
  {
   "cell_type": "markdown",
   "metadata": {},
   "source": [
    "## 9. Plot the acquisition geometry"
   ]
  },
  {
   "cell_type": "code",
   "execution_count": null,
   "metadata": {},
   "outputs": [],
   "source": [
    "gisis.plot_acquisition(context, key_acquisition_geometry='geometry')"
   ]
  },
  {
   "cell_type": "markdown",
   "metadata": {},
   "source": [
    "## 10. Read Velocity Model SEGY\n",
    "    Now let's do the same for the velocity model"
   ]
  },
  {
   "cell_type": "code",
   "execution_count": null,
   "metadata": {},
   "outputs": [],
   "source": [
    "model_path = '/home/ammir/Desktop/Seismic Dataset/BP Benchmark 2004/Properties/vel_z6.25m_x12.5m_exact.segy'\n",
    "context['model_text_header'] = gisis.get_text_header(context, file_path=model_path)\n",
    "context['model_text_header']"
   ]
  },
  {
   "cell_type": "markdown",
   "metadata": {},
   "source": [
    "## 11. Read Geometry "
   ]
  },
  {
   "cell_type": "code",
   "execution_count": null,
   "metadata": {},
   "outputs": [],
   "source": [
    "context['model geometry'] = gisis.get_trace_header(context, file_path=model_path,ignore_geometry=True)\n",
    "context['model geometry'].head(10)"
   ]
  },
  {
   "cell_type": "markdown",
   "metadata": {},
   "source": [
    "## 11. Scale Coordinate Units"
   ]
  },
  {
   "cell_type": "code",
   "execution_count": null,
   "metadata": {},
   "outputs": [],
   "source": [
    "context['model geometry'] = gisis.scale_coordinate_units(context, key=\"model geometry\", XY_headers=['SourceX', 'SourceY', 'GroupX', 'GroupY'], elevation_headers=['SourceDepth', 'SourceSurfaceElevation'], XY_Scaler=10., elevation_scaler=10.)\n",
    "context['model geometry'].head(10)"
   ]
  },
  {
   "cell_type": "markdown",
   "metadata": {},
   "source": [
    "## 12. Read Velocity Model Contents"
   ]
  },
  {
   "cell_type": "code",
   "execution_count": null,
   "metadata": {},
   "outputs": [],
   "source": [
    "context['model'] = gisis.get_trace_data(context, file_path=model_path, ignore_geometry=True)"
   ]
  },
  {
   "cell_type": "markdown",
   "metadata": {},
   "source": [
    "## 13. Show Contents"
   ]
  },
  {
   "cell_type": "code",
   "execution_count": null,
   "metadata": {},
   "outputs": [],
   "source": [
    "gisis.plot_seismic_image(context,\n",
    "    xlabel=\"X (m)\",\n",
    "    ylabel=\"Depth (m)\",\n",
    "    y_spacing=6.25,\n",
    "    x_header=\"GroupX\",\n",
    "    key_data='model',\n",
    "    key_geometry=\"model geometry\",\n",
    "    figure_dims=(20,12),\n",
    "    cmap='jet'\n",
    ")"
   ]
  },
  {
   "cell_type": "markdown",
   "metadata": {},
   "source": [
    "# 14. Plot The Acquisition\n",
    "    Let's plot the acquisition but now adding the velocity model as boundary for the polygon"
   ]
  },
  {
   "cell_type": "code",
   "execution_count": null,
   "metadata": {},
   "outputs": [],
   "source": [
    "gisis.plot_acquisition(context, key_acquisition_geometry='geometry', key_model_geometry='model geometry')"
   ]
  },
  {
   "cell_type": "markdown",
   "metadata": {},
   "source": [
    "## 15. Convert Coordinates to a Local System\n",
    "- Retrieve the model geometry DataFrame from the context.\n",
    "- Define corner coordinates using the minimum and maximum values of `SourceX` and `SourceY`.\n",
    "- Calculate the azimuth angle using the `calculate_azimuth` function.\n",
    "- Convert the acquisition coordinates (e.g., `SourceX`, `SourceY`) to local coordinates using the `get_local_coordinates` function.\n",
    "- Update the geometry DataFrame in the context with these local coordinates."
   ]
  },
  {
   "cell_type": "code",
   "execution_count": null,
   "metadata": {},
   "outputs": [],
   "source": [
    "gisis.generate_local_coordinates(context, key_geometry='geometry',key_model_geometry='model geometry')"
   ]
  },
  {
   "cell_type": "markdown",
   "metadata": {},
   "source": [
    "# 16. Plot The Acquisition\n",
    "    Let's plot the acquisition but now with local geometry defined by velocity model"
   ]
  },
  {
   "cell_type": "code",
   "execution_count": null,
   "metadata": {},
   "outputs": [],
   "source": [
    "gisis.plot_acquisition(context, key_acquisition_geometry='geometry', key_model_geometry='model geometry')"
   ]
  },
  {
   "cell_type": "markdown",
   "metadata": {},
   "source": [
    "# 17. Kill Traces Outside Model\n",
    "    Since we have traces that are outside the model, which were modeled by extending the model to the left, we want to get rid of them and stay with only the traces that are inside"
   ]
  },
  {
   "cell_type": "code",
   "execution_count": null,
   "metadata": {},
   "outputs": [],
   "source": [
    "gisis.kill_traces_outside_box(context, key_geometry='geometry',key_data='data')"
   ]
  },
  {
   "cell_type": "markdown",
   "metadata": {},
   "source": [
    "# 18. Plot Result Geometry\n",
    "    Now let's plot it to see how our acquisition looks like"
   ]
  },
  {
   "cell_type": "code",
   "execution_count": null,
   "metadata": {},
   "outputs": [],
   "source": [
    "gisis.plot_acquisition(context, key_acquisition_geometry='geometry', key_model_geometry='model geometry')"
   ]
  },
  {
   "cell_type": "markdown",
   "metadata": {},
   "source": [
    "## 19. Save Processed Geometry Data\n",
    "- Define a function to store the geometry DataFrame as a Parquet file:\n",
    "  - Validate that the context and the geometry DataFrame exist.\n",
    "  - Check that the provided file path is valid and the destination directory exists.\n",
    "  - Write the DataFrame to a Parquet file using the `to_parquet` method."
   ]
  },
  {
   "cell_type": "code",
   "execution_count": null,
   "metadata": {},
   "outputs": [],
   "source": [
    "gisis.store_geometry_as_parquet(context, file_path='SourceReceiverGeometry.parquet',key_geometry='geometry')\n",
    "gisis.store_geometry_as_parquet(context, file_path='ModelGeometry.parquet',key_geometry='model geometry')"
   ]
  },
  {
   "cell_type": "markdown",
   "metadata": {},
   "source": [
    "# 20. Writing Seismogram"
   ]
  },
  {
   "cell_type": "code",
   "execution_count": null,
   "metadata": {},
   "outputs": [],
   "source": [
    "gisis.write_data(context,\"./\", \"SeismogramKillTraces.npy\", format='npy')"
   ]
  }
 ],
 "metadata": {
  "kernelspec": {
   "display_name": "base",
   "language": "python",
   "name": "python3"
  },
  "language_info": {
   "codemirror_mode": {
    "name": "ipython",
    "version": 3
   },
   "file_extension": ".py",
   "mimetype": "text/x-python",
   "name": "python",
   "nbconvert_exporter": "python",
   "pygments_lexer": "ipython3",
   "version": "3.11.11"
  }
 },
 "nbformat": 4,
 "nbformat_minor": 2
}
